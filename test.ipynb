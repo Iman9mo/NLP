{
 "cells": [
  {
   "cell_type": "code",
   "id": "6e4c792cffd4d570",
   "metadata": {},
   "source": [
    "import pandas as pd\n",
    "import re\n",
    "from gensim.models import Word2Vec\n",
    "import numpy as np\n",
    "from sklearn.manifold import TSNE\n",
    "import matplotlib.pyplot as plt\n",
    "from nltk.corpus import stopwords\n",
    "from nltk.tokenize import word_tokenize\n",
    "from bs4 import BeautifulSoup\n",
    "from sklearn.metrics.pairwise import cosine_similarity\n",
    "from gensim.models.callbacks import CallbackAny2Vec\n",
    "\n",
    "# Load training data\n",
    "train_data = pd.read_csv('train.csv')\n",
    "\n",
    "# Combine Title and Body\n",
    "train_data['Combined'] = train_data['Title'].fillna('') + ' ' + train_data['Body'].fillna('')\n",
    "\n",
    "# Preprocessing function\n",
    "def preprocess_text(text):\n",
    "    # Remove HTML tags\n",
    "    text = BeautifulSoup(text, \"html.parser\").get_text()\n",
    "    # Remove special characters, numbers, and punctuation\n",
    "    text = re.sub(r'[^a-zA-Z]', ' ', text)\n",
    "    # Tokenize and remove stopwords\n",
    "    tokens = word_tokenize(text.lower())\n",
    "    stop_words = set(stopwords.words('english'))\n",
    "    tokens = [word for word in tokens if word not in stop_words]\n",
    "    return tokens\n",
    "\n",
    "# Preprocess Combined column\n",
    "train_data['Processed'] = train_data['Combined'].apply(preprocess_text)\n",
    "\n",
    "# Prepare sentences for Word2Vec\n",
    "sentences = train_data['Processed'].tolist()\n",
    "\n",
    "# Define a callback class for logging losses\n",
    "class LossLogger(CallbackAny2Vec):\n",
    "    \"\"\"Logs the loss at each epoch.\"\"\"\n",
    "    def __init__(self):\n",
    "        self.epoch = 0\n",
    "        self.losses = []\n",
    "\n",
    "    def on_epoch_end(self, model):\n",
    "        loss = model.get_latest_training_loss()\n",
    "        self.losses.append(loss)\n",
    "        print(f\"Epoch {self.epoch + 1}, Loss: {loss}\")\n",
    "        self.epoch += 1\n",
    "\n",
    "# Instantiate the logger\n",
    "loss_logger = LossLogger()\n",
    "\n",
    "# Train Word2Vec model\n",
    "word2vec_model = Word2Vec(sentences=sentences,\n",
    "                          vector_size=300,  # Increased vector size\n",
    "                          window=10,        # Increased window size\n",
    "                          min_count=2,      # Lowered min count\n",
    "                          workers=4,        # Number of threads\n",
    "                          sg=1,             # Skip-gram model\n",
    "                          epochs=20,        # Increased epochs\n",
    "                          compute_loss=True, # Enable loss computation\n",
    "                          callbacks=[loss_logger])\n",
    "\n",
    "# Save the model\n",
    "word2vec_model.save(\"optimized_word2vec_model.model\")\n",
    "\n"
   ],
   "outputs": [],
   "execution_count": null
  },
  {
   "metadata": {
    "collapsed": true,
    "ExecuteTime": {
     "end_time": "2025-01-16T17:28:05.837827Z",
     "start_time": "2025-01-16T17:27:52.190217Z"
    }
   },
   "cell_type": "code",
   "source": [
    "# Visualize word embeddings\n",
    "def visualize_embeddings(word2vec_model, words):\n",
    "    word_vectors = np.array([word2vec_model.wv[word] for word in words if word in word2vec_model.wv])\n",
    "    labels = [word for word in words if word in word2vec_model.wv]\n",
    "\n",
    "    tsne = TSNE(n_components=2, random_state=42, perplexity=min(30, len(word_vectors) - 1))\n",
    "\n",
    "    reduced_vectors = tsne.fit_transform(word_vectors)\n",
    "\n",
    "    plt.figure(figsize=(12, 8))\n",
    "    for i, label in enumerate(labels):\n",
    "        x, y = reduced_vectors[i, 0], reduced_vectors[i, 1]\n",
    "        plt.scatter(x, y)\n",
    "        plt.annotate(label, xy=(x, y), xytext=(5, 2), textcoords='offset points', ha='right', va='bottom')\n",
    "    plt.show()\n",
    "\n",
    "# Select a sample of words for visualization\n",
    "sample_words = [\"data\", \"stack\", \"overflow\", \"question\", \"tag\", \"model\"]\n",
    "visualize_embeddings(word2vec_model, sample_words)\n",
    "\n",
    "# Save document vectors\n",
    "def generate_document_vectors(data, model):\n",
    "    document_vectors = []\n",
    "    for tokens in data['Processed']:\n",
    "        vectors = [model.wv[word] for word in tokens if word in model.wv]\n",
    "        if vectors:\n",
    "            document_vectors.append(np.mean(vectors, axis=0))\n",
    "        else:\n",
    "            document_vectors.append(np.zeros(model.vector_size))\n",
    "    return np.array(document_vectors)\n",
    "\n",
    "train_doc_vectors = generate_document_vectors(train_data, word2vec_model)\n",
    "\n",
    "# Save document vectors for later use\n",
    "np.save(\"train_doc_vectors.npy\", train_doc_vectors)\n",
    "\n",
    "# Compute cosine similarity (example)\n",
    "def compute_cosine_similarity(doc_vectors, query_vector):\n",
    "    similarities = cosine_similarity([query_vector], doc_vectors)\n",
    "    return similarities\n",
    "\n",
    "# Example query\n",
    "query = \"How to train a Word2Vec model?\"\n",
    "query_tokens = preprocess_text(query)\n",
    "query_vector = np.mean([word2vec_model.wv[word] for word in query_tokens if word in word2vec_model.wv], axis=0)\n",
    "similarities = compute_cosine_similarity(train_doc_vectors, query_vector)\n",
    "\n",
    "# Retrieve top-5 similar documents\n",
    "train_data['Similarity'] = similarities[0]\n",
    "most_similar = train_data.sort_values(by='Similarity', ascending=False).head(5)\n",
    "print(most_similar[['Title', 'Similarity']])"
   ],
   "id": "initial_id",
   "outputs": [
    {
     "data": {
      "text/plain": [
       "<Figure size 1200x800 with 1 Axes>"
      ],
      "image/png": "[encoded data removed]"
     },
     "metadata": {},
     "output_type": "display_data"
    },
    {
     "name": "stdout",
     "output_type": "stream",
     "text": [
      "                                                   Title  Similarity\n",
      "17658           Gensim word2vec in python3 missing vocab    0.833234\n",
      "32346  In spacy, how to use your own word2vec model c...    0.826654\n",
      "17381  Interpreting negative Word2Vec similarity from...    0.790474\n",
      "22971    Using a Word2Vec model pre-trained on wikipedia    0.770298\n",
      "16577  How to check the weights after every epoc in K...    0.746575\n"
     ]
    }
   ],
   "execution_count": 6
  }
 ],
 "metadata": {
  "kernelspec": {
   "display_name": "Python 3",
   "language": "python",
   "name": "python3"
  },
  "language_info": {
   "codemirror_mode": {
    "name": "ipython",
    "version": 2
   },
   "file_extension": ".py",
   "mimetype": "text/x-python",
   "name": "python",
   "nbconvert_exporter": "python",
   "pygments_lexer": "ipython2",
   "version": "2.7.6"
  }
 },
 "nbformat": 4,
 "nbformat_minor": 5
}
